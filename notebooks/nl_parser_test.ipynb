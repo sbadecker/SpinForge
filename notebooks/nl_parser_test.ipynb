{
 "cells": [
  {
   "cell_type": "code",
   "execution_count": 1,
   "id": "1019e436-c304-4cb5-a53a-5f6490738bfc",
   "metadata": {},
   "outputs": [],
   "source": [
    "import os\n",
    "import sys\n",
    "sys.path.insert(0, \"../\")"
   ]
  },
  {
   "cell_type": "code",
   "execution_count": 2,
   "id": "c8eecc48-e4fa-40fb-95fa-ae003881c49f",
   "metadata": {},
   "outputs": [],
   "source": [
    "from core.nl_parser import SYSTEM, USER, NLParser"
   ]
  },
  {
   "cell_type": "markdown",
   "id": "1ea1ecc5-cad3-471a-990c-866362a7a790",
   "metadata": {},
   "source": [
    "# Setup"
   ]
  },
  {
   "cell_type": "code",
   "execution_count": null,
   "id": "c4b33a8b-7a38-4a82-a103-4347766ab3cf",
   "metadata": {},
   "outputs": [
    {
     "ename": "KeyError",
     "evalue": "'ANTHROPIC_API_KEY'",
     "output_type": "error",
     "traceback": [
      "\u001b[31m---------------------------------------------------------------------------\u001b[39m",
      "\u001b[31mKeyError\u001b[39m                                  Traceback (most recent call last)",
      "\u001b[36mCell\u001b[39m\u001b[36m \u001b[39m\u001b[32mIn[3]\u001b[39m\u001b[32m, line 2\u001b[39m\n\u001b[32m      1\u001b[39m open_ai_key = os.environ[\u001b[33m\"\u001b[39m\u001b[33mOPENAI_API_KEY\u001b[39m\u001b[33m\"\u001b[39m]\n\u001b[32m----> \u001b[39m\u001b[32m2\u001b[39m antropic_key = \u001b[43mos\u001b[49m\u001b[43m.\u001b[49m\u001b[43menviron\u001b[49m\u001b[43m[\u001b[49m\u001b[33;43m\"\u001b[39;49m\u001b[33;43mANTHROPIC_API_KEY\u001b[39;49m\u001b[33;43m\"\u001b[39;49m\u001b[43m]\u001b[49m\n",
      "\u001b[36mFile \u001b[39m\u001b[32m<frozen os>:714\u001b[39m, in \u001b[36m__getitem__\u001b[39m\u001b[34m(self, key)\u001b[39m\n",
      "\u001b[31mKeyError\u001b[39m: 'ANTHROPIC_API_KEY'"
     ]
    }
   ],
   "source": [
    "open_ai_key = os.environ[\"OPENAI_API_KEY\"]\n",
    "antropic_key = os.environ[\"ANTHROPIC_API_KEY\"]\n"
   ]
  },
  {
   "cell_type": "code",
   "execution_count": 6,
   "id": "281fc79b-781f-4c8f-8525-32284c511955",
   "metadata": {},
   "outputs": [],
   "source": [
    "# nl_parser = NLParser(open_ai_key)"
   ]
  },
  {
   "cell_type": "code",
   "execution_count": null,
   "id": "03b8ba93-1838-46c4-841e-0a8f22166936",
   "metadata": {},
   "outputs": [],
   "source": [
    "# !pip install \\\n",
    "#   \"pydantic>=2.7,<3\" \\\n",
    "#   \"langchain>=0.3,<0.4\" \\\n",
    "#   \"langchain-core>=0.3,<0.4\" \\\n",
    "#   \"langchain-community>=0.3,<0.4\" \\\n",
    "#   \"langchain-openai>=0.2,<0.3\" \\\n",
    "#   \"openai>=1.40\""
   ]
  },
  {
   "cell_type": "markdown",
   "id": "08760b2b-a9b7-4d18-ab34-68ca9e67de6e",
   "metadata": {},
   "source": [
    "# Generate"
   ]
  },
  {
   "cell_type": "code",
   "execution_count": null,
   "id": "c43bf4a1-6e0b-462e-b72a-be4b1c409d01",
   "metadata": {},
   "outputs": [],
   "source": [
    "from langchain_openai import ChatOpenAI\n",
    "from langchain_core.prompts import ChatPromptTemplate"
   ]
  },
  {
   "cell_type": "code",
   "execution_count": 9,
   "id": "f3721ef0-4656-4c66-91f4-8672e8f475ec",
   "metadata": {},
   "outputs": [],
   "source": [
    "ENDPOINT=\"us-central1-aiplatform.googleapis.com\"\n",
    "REGION=\"us-central1\"\n",
    "PROJECT_ID=\"support-robot-448808\"\n",
    "BUCKET_NAME=\"base_bucket-2025\"\n",
    "BUCKET_URI = f\"gs://{BUCKET_NAME}\"\n",
    "MODEL_LOCATION = \"us-central1\""
   ]
  },
  {
   "cell_type": "code",
   "execution_count": 10,
   "id": "c3f10784-f41b-4034-ac2f-05074daf37ff",
   "metadata": {},
   "outputs": [],
   "source": [
    "from langchain_google_vertexai import ChatVertexAI\n",
    "from google.cloud import aiplatform\n",
    "aiplatform.init(project=PROJECT_ID, location=REGION) "
   ]
  },
  {
   "cell_type": "code",
   "execution_count": 11,
   "id": "72cc902b-df9d-4e2e-94dc-93532df6f281",
   "metadata": {},
   "outputs": [],
   "source": [
    "duration = 90\n",
    "focus = \"Endurance\"\n",
    "prefs = \"\""
   ]
  },
  {
   "cell_type": "code",
   "execution_count": 17,
   "id": "f574e14b-46f8-432b-a435-4ae6bcce4530",
   "metadata": {},
   "outputs": [],
   "source": [
    "model = \"gpt-5-mini\"\n",
    "llm_open_ai = ChatOpenAI(model=model, temperature=1, api_key=open_ai_key)"
   ]
  },
  {
   "cell_type": "code",
   "execution_count": null,
   "id": "19eb65bc-cb47-432b-bf7d-7e5bbfb51f54",
   "metadata": {},
   "outputs": [],
   "source": [
    "# Anthropic removed - using Google Vertex AI instead"
   ]
  },
  {
   "cell_type": "code",
   "execution_count": 12,
   "id": "807252c4-e0a0-47eb-a0b4-1ec0338fc3d4",
   "metadata": {},
   "outputs": [],
   "source": [
    "model = \"gemini-2.5-flash\"\n",
    "llm_vertex = ChatVertexAI(model=model, temperature=1.0)"
   ]
  },
  {
   "cell_type": "code",
   "execution_count": 13,
   "id": "0826cb55-d4f9-4739-9ad0-cd7ec79bf212",
   "metadata": {},
   "outputs": [],
   "source": [
    "prompt = ChatPromptTemplate.from_messages([(\"system\", SYSTEM), (\"user\", USER)])"
   ]
  },
  {
   "cell_type": "code",
   "execution_count": 14,
   "id": "a8a56724-c51b-4543-944d-3c8e69ff0510",
   "metadata": {},
   "outputs": [
    {
     "name": "stdout",
     "output_type": "stream",
     "text": [
      "CPU times: user 690 μs, sys: 31 μs, total: 721 μs\n",
      "Wall time: 734 μs\n"
     ]
    },
    {
     "ename": "NameError",
     "evalue": "name 'llm_open_ai' is not defined",
     "output_type": "error",
     "traceback": [
      "\u001b[31m---------------------------------------------------------------------------\u001b[39m",
      "\u001b[31mNameError\u001b[39m                                 Traceback (most recent call last)",
      "\u001b[36mCell\u001b[39m\u001b[36m \u001b[39m\u001b[32mIn[14]\u001b[39m\u001b[32m, line 1\u001b[39m\n\u001b[32m----> \u001b[39m\u001b[32m1\u001b[39m \u001b[43mget_ipython\u001b[49m\u001b[43m(\u001b[49m\u001b[43m)\u001b[49m\u001b[43m.\u001b[49m\u001b[43mrun_cell_magic\u001b[49m\u001b[43m(\u001b[49m\u001b[33;43m'\u001b[39;49m\u001b[33;43mtime\u001b[39;49m\u001b[33;43m'\u001b[39;49m\u001b[43m,\u001b[49m\u001b[43m \u001b[49m\u001b[33;43m'\u001b[39;49m\u001b[33;43m'\u001b[39;49m\u001b[43m,\u001b[49m\u001b[43m \u001b[49m\u001b[33;43m'\u001b[39;49m\u001b[33;43mmsg = prompt.format_messages(duration_min=duration, focus=focus, prefs=prefs or \u001b[39;49m\u001b[33;43m\"\u001b[39;49m\u001b[33;43m—\u001b[39;49m\u001b[33;43m\"\u001b[39;49m\u001b[33;43m)\u001b[39;49m\u001b[38;5;130;43;01m\\n\u001b[39;49;00m\u001b[33;43mraw = llm_open_ai.invoke(msg)\u001b[39;49m\u001b[38;5;130;43;01m\\n\u001b[39;49;00m\u001b[33;43mprint(raw)\u001b[39;49m\u001b[38;5;130;43;01m\\n\u001b[39;49;00m\u001b[33;43m'\u001b[39;49m\u001b[43m)\u001b[49m\n",
      "\u001b[36mFile \u001b[39m\u001b[32m~/Projects/SpinForge/.venv/lib/python3.12/site-packages/IPython/core/interactiveshell.py:2565\u001b[39m, in \u001b[36mInteractiveShell.run_cell_magic\u001b[39m\u001b[34m(self, magic_name, line, cell)\u001b[39m\n\u001b[32m   2563\u001b[39m \u001b[38;5;28;01mwith\u001b[39;00m \u001b[38;5;28mself\u001b[39m.builtin_trap:\n\u001b[32m   2564\u001b[39m     args = (magic_arg_s, cell)\n\u001b[32m-> \u001b[39m\u001b[32m2565\u001b[39m     result = \u001b[43mfn\u001b[49m\u001b[43m(\u001b[49m\u001b[43m*\u001b[49m\u001b[43margs\u001b[49m\u001b[43m,\u001b[49m\u001b[43m \u001b[49m\u001b[43m*\u001b[49m\u001b[43m*\u001b[49m\u001b[43mkwargs\u001b[49m\u001b[43m)\u001b[49m\n\u001b[32m   2567\u001b[39m \u001b[38;5;66;03m# The code below prevents the output from being displayed\u001b[39;00m\n\u001b[32m   2568\u001b[39m \u001b[38;5;66;03m# when using magics with decorator @output_can_be_silenced\u001b[39;00m\n\u001b[32m   2569\u001b[39m \u001b[38;5;66;03m# when the last Python token in the expression is a ';'.\u001b[39;00m\n\u001b[32m   2570\u001b[39m \u001b[38;5;28;01mif\u001b[39;00m \u001b[38;5;28mgetattr\u001b[39m(fn, magic.MAGIC_OUTPUT_CAN_BE_SILENCED, \u001b[38;5;28;01mFalse\u001b[39;00m):\n",
      "\u001b[36mFile \u001b[39m\u001b[32m~/Projects/SpinForge/.venv/lib/python3.12/site-packages/IPython/core/magics/execution.py:1452\u001b[39m, in \u001b[36mExecutionMagics.time\u001b[39m\u001b[34m(self, line, cell, local_ns)\u001b[39m\n\u001b[32m   1450\u001b[39m \u001b[38;5;28;01mif\u001b[39;00m interrupt_occured:\n\u001b[32m   1451\u001b[39m     \u001b[38;5;28;01mif\u001b[39;00m exit_on_interrupt \u001b[38;5;129;01mand\u001b[39;00m captured_exception:\n\u001b[32m-> \u001b[39m\u001b[32m1452\u001b[39m         \u001b[38;5;28;01mraise\u001b[39;00m captured_exception\n\u001b[32m   1453\u001b[39m     \u001b[38;5;28;01mreturn\u001b[39;00m\n\u001b[32m   1454\u001b[39m \u001b[38;5;28;01mreturn\u001b[39;00m out\n",
      "\u001b[36mFile \u001b[39m\u001b[32m~/Projects/SpinForge/.venv/lib/python3.12/site-packages/IPython/core/magics/execution.py:1416\u001b[39m, in \u001b[36mExecutionMagics.time\u001b[39m\u001b[34m(self, line, cell, local_ns)\u001b[39m\n\u001b[32m   1414\u001b[39m st = clock2()\n\u001b[32m   1415\u001b[39m \u001b[38;5;28;01mtry\u001b[39;00m:\n\u001b[32m-> \u001b[39m\u001b[32m1416\u001b[39m     \u001b[43mexec\u001b[49m\u001b[43m(\u001b[49m\u001b[43mcode\u001b[49m\u001b[43m,\u001b[49m\u001b[43m \u001b[49m\u001b[43mglob\u001b[49m\u001b[43m,\u001b[49m\u001b[43m \u001b[49m\u001b[43mlocal_ns\u001b[49m\u001b[43m)\u001b[49m\n\u001b[32m   1417\u001b[39m     out = \u001b[38;5;28;01mNone\u001b[39;00m\n\u001b[32m   1418\u001b[39m     \u001b[38;5;66;03m# multi-line %%time case\u001b[39;00m\n",
      "\u001b[36mFile \u001b[39m\u001b[32m<timed exec>:2\u001b[39m\n",
      "\u001b[31mNameError\u001b[39m: name 'llm_open_ai' is not defined"
     ]
    }
   ],
   "source": [
    "%%time\n",
    "msg = prompt.format_messages(duration_min=duration, focus=focus, prefs=prefs or \"—\")\n",
    "raw = llm_open_ai.invoke(msg)\n",
    "print(raw)"
   ]
  },
  {
   "cell_type": "code",
   "execution_count": null,
   "id": "911325be-c6ec-4bd7-a765-8955d8aeab21",
   "metadata": {},
   "outputs": [
    {
     "name": "stdout",
     "output_type": "stream",
     "text": [
      "content='```json\\n{\\n  \"name\": \"Steady State Endurance\",\\n  \"focus\": \"Endurance\",\\n  \"description\": \"A classic aerobic endurance session designed to build mitochondrial density and fat oxidation capacity. The sustained Zone 2 effort develops the aerobic base crucial for long rides and recovery between high-intensity blocks. Perfect for building durability without creating excessive fatigue.\",\\n  \"steps\": [\\n    {\"duration_s\": 300, \"pct_ftp\": 0.50, \"pct_ftp_end\": 0.60, \"kind\": \"warmup\", \"note\": \"Easy spin to wake up the legs and prepare joints and muscles\"},\\n    {\"duration_s\": 300, \"pct_ftp\": 0.60, \"pct_ftp_end\": 0.68, \"kind\": \"warmup\", \"note\": \"Gradually increase effort into Zone 2, focusing on smooth pedaling\"},\\n    {\"duration_s\": 240, \"pct_ftp\": 0.68, \"pct_ftp_end\": 0.72, \"kind\": \"warmup\", \"note\": \"Final warmup ramp to settle into comfortable Zone 2 rhythm\"},\\n    {\"duration_s\": 1200, \"pct_ftp\": 0.72, \"kind\": \"steady\", \"note\": \"First main block—find your sustainable aerobic pace, controlled breathing\"},\\n    {\"duration_s\": 1200, \"pct_ftp\": 0.70, \"kind\": \"steady\", \"note\": \"Continue building aerobic capacity, stay relaxed and efficient\"},\\n    {\"duration_s\": 1200, \"pct_ftp\": 0.72, \"kind\": \"steady\", \"note\": \"Maintain steady Zone 2 effort, focus on consistent cadence around 85-90 rpm\"},\\n    {\"duration_s\": 1200, \"pct_ftp\": 0.70, \"kind\": \"steady\", \"note\": \"Keep the aerobic engine humming, conversation pace breathing\"},\\n    {\"duration_s\": 1200, \"pct_ftp\": 0.68, \"kind\": \"steady\", \"note\": \"Slightly easier but still purposeful—building fatigue resistance\"},\\n    {\"duration_s\": 300, \"pct_ftp\": 0.60, \"pct_ftp_end\": 0.50, \"kind\": \"cooldown\", \"note\": \"Begin gradual wind-down, let heart rate drift down naturally\"},\\n    {\"duration_s\": 240, \"pct_ftp\": 0.50, \"kind\": \"cooldown\", \"note\": \"Easy spinning to flush legs and promote recovery\"}\\n  ]\\n}\\n```' additional_kwargs={} response_metadata={'id': 'msg_01QFjrpXTgecbUrKghLXqXYW', 'model': 'claude-sonnet-4-5-20250929', 'stop_reason': 'end_turn', 'stop_sequence': None, 'usage': {'cache_creation': {'ephemeral_1h_input_tokens': 0, 'ephemeral_5m_input_tokens': 0}, 'cache_creation_input_tokens': 0, 'cache_read_input_tokens': 0, 'input_tokens': 769, 'output_tokens': 629, 'server_tool_use': None, 'service_tier': 'standard'}} id='run--712e7934-4d15-4337-aefb-3cef7b56cf07-0' usage_metadata={'input_tokens': 769, 'output_tokens': 629, 'total_tokens': 1398, 'input_token_details': {'cache_read': 0, 'cache_creation': 0}}\n",
      "CPU times: user 17.7 ms, sys: 43.6 ms, total: 61.3 ms\n",
      "Wall time: 13.3 s\n"
     ]
    }
   ],
   "source": [
    "# Anthropic test removed - using Google Vertex AI instead"
   ]
  },
  {
   "cell_type": "code",
   "execution_count": 47,
   "id": "4dce8885-882b-4586-81a9-998b06efff3c",
   "metadata": {},
   "outputs": [
    {
     "name": "stdout",
     "output_type": "stream",
     "text": [
      "content='```json\\n{\\n \"name\": \"90-Min Foundational Endurance\",\\n \"focus\": \"Endurance\",\\n \"description\": \"This session builds aerobic capacity and fat-burning efficiency by focusing on sustained Zone 2 efforts. Consistent power output in this zone enhances mitochondrial function and capillary density, crucial for improving long-distance performance without excessive fatigue.\",\\n \"steps\": [\\n  {\\n   \"duration_s\": 720,\\n   \"pct_ftp\": 0.50,\\n   \"kind\": \"warmup\",\\n   \"pct_ftp_end\": 0.72,\\n   \"note\": \"Progressive ramp to gently elevate heart rate and muscle temperature, preparing the aerobic system for sustained work.\"\\n  },\\n  {\\n   \"duration_s\": 1800,\\n   \"pct_ftp\": 0.72,\\n   \"kind\": \"steady\",\\n   \"note\": \"First sustained block in Zone 2. Focus on a steady, consistent power output and smooth pedaling.\"\\n  },\\n  {\\n   \"duration_s\": 300,\\n   \"pct_ftp\": 0.55,\\n   \"kind\": \"steady\",\\n   \"note\": \"Active recovery to slightly lower heart rate and clear metabolites, preparing for the next effort.\"\\n  },\\n  {\\n   \"duration_s\": 1800,\\n   \"pct_ftp\": 0.72,\\n   \"kind\": \"steady\",\\n   \"note\": \"Second main block of endurance work. Maintain focus on steady power and efficient pedaling in Zone 2.\"\\n  },\\n  {\\n   \"duration_s\": 780,\\n   \"pct_ftp\": 0.60,\\n   \"kind\": \"cooldown\",\\n   \"pct_ftp_end\": 0.45,\\n   \"note\": \"Gradual cool-down to reduce heart rate and body temperature, facilitating recovery and minimizing muscle soreness.\"\\n  }\\n ]\\n}\\n```' additional_kwargs={} response_metadata={'is_blocked': False, 'safety_ratings': [], 'usage_metadata': {'prompt_token_count': 678, 'candidates_token_count': 438, 'total_token_count': 2042, 'prompt_tokens_details': [{'modality': 1, 'token_count': 678}], 'candidates_tokens_details': [{'modality': 1, 'token_count': 438}], 'thoughts_token_count': 926, 'cached_content_token_count': 0, 'cache_tokens_details': []}, 'finish_reason': 'STOP', 'avg_logprobs': -0.7433878580729166, 'model_name': 'gemini-2.5-flash'} id='run--057f1566-ad1d-4fc1-9562-e51faa628ce2-0' usage_metadata={'input_tokens': 678, 'output_tokens': 438, 'total_tokens': 2042, 'input_token_details': {'cache_read': 0}, 'output_token_details': {'reasoning': 926}}\n",
      "CPU times: user 29.3 ms, sys: 39.9 ms, total: 69.2 ms\n",
      "Wall time: 7.54 s\n"
     ]
    }
   ],
   "source": [
    "%%time\n",
    "msg = prompt.format_messages(duration_min=duration, focus=focus, prefs=prefs or \"—\")\n",
    "raw = llm_vertex.invoke(msg)\n",
    "print(raw)"
   ]
  },
  {
   "cell_type": "code",
   "execution_count": 50,
   "id": "febf0ec9-e512-4b85-b36c-8b326c942107",
   "metadata": {},
   "outputs": [],
   "source": [
    "def get_costs(raw_response, pricing_mapping, model_id=\"gemini-2.5-flash\"):\n",
    "    costs = 0\n",
    "    model_pricing_mapping = pricing_mapping[model_id]\n",
    "    input_token_price = model_pricing_mapping[\"input_tokens\"] / 10 ** 6\n",
    "    output_token_price = model_pricing_mapping[\"output_tokens\"] / 10 ** 6\n",
    "    \n",
    "    usage = raw_response.response_metadata[\"usage_metadata\"]\n",
    "    costs += usage[\"prompt_token_count\"] * input_token_price\n",
    "    costs += usage[\"thoughts_token_count\"] * output_token_price\n",
    "    costs += usage[\"candidates_token_count\"] * output_token_price\n",
    "    return costs"
   ]
  },
  {
   "cell_type": "code",
   "execution_count": 62,
   "id": "9514015d-bd7b-4345-937a-8842da95327f",
   "metadata": {},
   "outputs": [],
   "source": [
    "# In $ / 1 Mio Tokens\n",
    "pricing_mapping = {\n",
    "    \"gemini-2.5-flash\": {\n",
    "        \"input_tokens\": 0.3,\n",
    "        \"output_tokens\": 2.5\n",
    "    },\n",
    "    \"gemini-2.5-flash-lite\": {\n",
    "        \"input_tokens\": 0.1,\n",
    "        \"output_tokens\": 0.4\n",
    "    },\n",
    "    \"gemini-2.5-pro\": {\n",
    "        \"input_tokens\": 1.25,\n",
    "        \"output_tokens\": 10\n",
    "    }\n",
    "}"
   ]
  },
  {
   "cell_type": "code",
   "execution_count": 66,
   "id": "6ccf7f69-49d8-41e9-8db1-a5d644607920",
   "metadata": {},
   "outputs": [],
   "source": [
    "model = \"gemini-2.5-flash-lite\"\n",
    "\n",
    "llm_vertex = ChatVertexAI(model=model, temperature=1.0)"
   ]
  },
  {
   "cell_type": "code",
   "execution_count": 67,
   "id": "9e3d5875-e8f2-4631-8ecd-02168ae6d976",
   "metadata": {},
   "outputs": [
    {
     "name": "stdout",
     "output_type": "stream",
     "text": [
      "CPU times: user 5.79 ms, sys: 3.51 ms, total: 9.29 ms\n",
      "Wall time: 1.98 s\n"
     ]
    }
   ],
   "source": [
    "%%time\n",
    "msg = prompt.format_messages(duration_min=duration, focus=focus, prefs=prefs or \"—\")\n",
    "raw = llm_vertex.invoke(msg)"
   ]
  },
  {
   "cell_type": "code",
   "execution_count": 68,
   "id": "15f0fb63-a0cc-4749-9085-bb1a46222a5e",
   "metadata": {},
   "outputs": [
    {
     "data": {
      "text/plain": [
       "0.00031860000000000005"
      ]
     },
     "execution_count": 68,
     "metadata": {},
     "output_type": "execute_result"
    }
   ],
   "source": [
    "get_costs(raw, pricing_mapping, model)"
   ]
  },
  {
   "cell_type": "code",
   "execution_count": null,
   "id": "2ec94369-d66a-4e3d-8348-f5631baa9433",
   "metadata": {},
   "outputs": [],
   "source": []
  }
 ],
 "metadata": {
  "kernelspec": {
   "display_name": "Python 3 (ipykernel)",
   "language": "python",
   "name": "python3"
  },
  "language_info": {
   "codemirror_mode": {
    "name": "ipython",
    "version": 3
   },
   "file_extension": ".py",
   "mimetype": "text/x-python",
   "name": "python",
   "nbconvert_exporter": "python",
   "pygments_lexer": "ipython3",
   "version": "3.12.6"
  }
 },
 "nbformat": 4,
 "nbformat_minor": 5
}
