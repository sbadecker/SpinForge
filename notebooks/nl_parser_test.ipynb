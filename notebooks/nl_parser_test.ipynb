{
 "cells": [
  {
   "cell_type": "code",
   "execution_count": 1,
   "id": "1019e436-c304-4cb5-a53a-5f6490738bfc",
   "metadata": {},
   "outputs": [],
   "source": [
    "import os\n",
    "import sys\n",
    "sys.path.insert(0, \"../\")"
   ]
  },
  {
   "cell_type": "code",
   "execution_count": 2,
   "id": "c8eecc48-e4fa-40fb-95fa-ae003881c49f",
   "metadata": {},
   "outputs": [],
   "source": [
    "from core.nl_parser import SYSTEM, USER, NLParser"
   ]
  },
  {
   "cell_type": "markdown",
   "id": "1ea1ecc5-cad3-471a-990c-866362a7a790",
   "metadata": {},
   "source": [
    "# Setup"
   ]
  },
  {
   "cell_type": "code",
   "execution_count": 3,
   "id": "c4b33a8b-7a38-4a82-a103-4347766ab3cf",
   "metadata": {},
   "outputs": [],
   "source": [
    "open_ai_key = os.environ[\"OPENAI_API_KEY\"]\n",
    "antropic_key = os.environ[\"ANTHROPIC_API_KEY\"]"
   ]
  },
  {
   "cell_type": "code",
   "execution_count": 4,
   "id": "281fc79b-781f-4c8f-8525-32284c511955",
   "metadata": {},
   "outputs": [],
   "source": [
    "# nl_parser = NLParser(open_ai_key)"
   ]
  },
  {
   "cell_type": "code",
   "execution_count": 5,
   "id": "03b8ba93-1838-46c4-841e-0a8f22166936",
   "metadata": {},
   "outputs": [],
   "source": [
    "# !pip install \\\n",
    "#   \"pydantic>=2.7,<3\" \\\n",
    "#   \"langchain>=0.3,<0.4\" \\\n",
    "#   \"langchain-core>=0.3,<0.4\" \\\n",
    "#   \"langchain-community>=0.3,<0.4\" \\\n",
    "#   \"langchain-openai>=0.2,<0.3\" \\\n",
    "#   \"langchain-anthropic>=0.2,<0.3\" \\\n",
    "#   \"openai>=1.40\" \\\n",
    "#   \"anthropic>=0.30\""
   ]
  },
  {
   "cell_type": "markdown",
   "id": "08760b2b-a9b7-4d18-ab34-68ca9e67de6e",
   "metadata": {},
   "source": [
    "# Generate"
   ]
  },
  {
   "cell_type": "code",
   "execution_count": 6,
   "id": "c43bf4a1-6e0b-462e-b72a-be4b1c409d01",
   "metadata": {},
   "outputs": [],
   "source": [
    "from langchain_anthropic import ChatAnthropic\n",
    "from langchain_openai import ChatOpenAI\n",
    "from langchain_core.prompts import ChatPromptTemplate"
   ]
  },
  {
   "cell_type": "code",
   "execution_count": 23,
   "id": "f3721ef0-4656-4c66-91f4-8672e8f475ec",
   "metadata": {},
   "outputs": [],
   "source": [
    "ENDPOINT=\"us-central1-aiplatform.googleapis.com\"\n",
    "REGION=\"us-central1\"\n",
    "PROJECT_ID=\"support-robot-448808\"\n",
    "BUCKET_NAME=\"base_bucket-2025\"\n",
    "BUCKET_URI = f\"gs://{BUCKET_NAME}\"\n",
    "MODEL_LOCATION = \"us-central1\""
   ]
  },
  {
   "cell_type": "code",
   "execution_count": 31,
   "id": "c3f10784-f41b-4034-ac2f-05074daf37ff",
   "metadata": {},
   "outputs": [],
   "source": [
    "from langchain_google_vertexai import ChatVertexAI\n",
    "from google.cloud import aiplatform\n",
    "aiplatform.init(project=PROJECT_ID, location=REGION) "
   ]
  },
  {
   "cell_type": "code",
   "execution_count": 7,
   "id": "72cc902b-df9d-4e2e-94dc-93532df6f281",
   "metadata": {},
   "outputs": [],
   "source": [
    "duration = 90\n",
    "focus = \"Endurance\"\n",
    "prefs = \"\""
   ]
  },
  {
   "cell_type": "code",
   "execution_count": 17,
   "id": "f574e14b-46f8-432b-a435-4ae6bcce4530",
   "metadata": {},
   "outputs": [],
   "source": [
    "model = \"gpt-5-mini\"\n",
    "llm_open_ai = ChatOpenAI(model=model, temperature=1, api_key=open_ai_key)"
   ]
  },
  {
   "cell_type": "code",
   "execution_count": 18,
   "id": "19eb65bc-cb47-432b-bf7d-7e5bbfb51f54",
   "metadata": {},
   "outputs": [],
   "source": [
    "model = \"claude-sonnet-4-5-20250929\"\n",
    "llm_claude = ChatAnthropic(model=model, temperature=1, api_key=antropic_key)"
   ]
  },
  {
   "cell_type": "code",
   "execution_count": 48,
   "id": "807252c4-e0a0-47eb-a0b4-1ec0338fc3d4",
   "metadata": {},
   "outputs": [],
   "source": [
    "model = \"gemini-2.5-flash-lite\"\n",
    "llm_vertex = ChatVertexAI(model=model, temperature=1.0)"
   ]
  },
  {
   "cell_type": "code",
   "execution_count": 45,
   "id": "0826cb55-d4f9-4739-9ad0-cd7ec79bf212",
   "metadata": {},
   "outputs": [],
   "source": [
    "prompt = ChatPromptTemplate.from_messages([(\"system\", SYSTEM), (\"user\", USER)])"
   ]
  },
  {
   "cell_type": "code",
   "execution_count": 20,
   "id": "a8a56724-c51b-4543-944d-3c8e69ff0510",
   "metadata": {},
   "outputs": [
    {
     "name": "stdout",
     "output_type": "stream",
     "text": [
      "content='{\\n  \"name\": \"90 min Steady Endurance with Short Recoveries\",\\n  \"focus\": \"Endurance\",\\n  \"description\": \"A 90-minute aerobic endurance session built around long, steady Z2 blocks with brief low-intensity recoveries to maintain consistency and focus. Suited for ambitious cyclists to strengthen aerobic capacity and muscular endurance without surges or high-intensity stress.\",\\n  \"steps\": [\\n    {\\n      \"duration_s\": 600,\\n      \"pct_ftp\": 0.50,\\n      \"pct_ftp_end\": 0.70,\\n      \"kind\": \"warmup\",\\n      \"note\": \"Progressive warm-up: raise blood flow and cadence from easy Z1 into low Z3/Z2 to prepare for sustained work.\"\\n    },\\n    {\\n      \"duration_s\": 1200,\\n      \"pct_ftp\": 0.66,\\n      \"kind\": \"steady\",\\n      \"note\": \"Main Z2 block: settle into steady aerobic pace to build sustained power and efficient pedal mechanics.\"\\n    },\\n    {\\n      \"duration_s\": 120,\\n      \"pct_ftp\": 0.55,\\n      \"kind\": \"steady\",\\n      \"note\": \"Short recovery: spin easy in low Z2/Z1 to recover while keeping momentum and cadence smooth.\"\\n    },\\n    {\\n      \"duration_s\": 1200,\\n      \"pct_ftp\": 0.66,\\n      \"kind\": \"steady\",\\n      \"note\": \"Repeat sustained Z2: hold a consistent effort to reinforce aerobic endurance and fatigue resistance.\"\\n    },\\n    {\\n      \"duration_s\": 120,\\n      \"pct_ftp\": 0.55,\\n      \"kind\": \"steady\",\\n      \"note\": \"Brief low-intensity spin: controlled recovery to refresh legs without dropping below aerobic stimulus.\"\\n    },\\n    {\\n      \"duration_s\": 1200,\\n      \"pct_ftp\": 0.66,\\n      \"kind\": \"steady\",\\n      \"note\": \"Final sustained block: maintain form and even pacing; use this to practice steady fueling and focus.\"\\n    },\\n    {\\n      \"duration_s\": 960,\\n      \"pct_ftp\": 0.60,\\n      \"pct_ftp_end\": 0.50,\\n      \"kind\": \"cooldown\",\\n      \"note\": \"Progressive cooldown: ease from low Z2 down to Z1 to aid recovery and lactate clearance.\"\\n    }\\n  ]\\n}' additional_kwargs={'refusal': None} response_metadata={'token_usage': {'completion_tokens': 2429, 'prompt_tokens': 646, 'total_tokens': 3075, 'completion_tokens_details': {'accepted_prediction_tokens': 0, 'audio_tokens': 0, 'reasoning_tokens': 1920, 'rejected_prediction_tokens': 0}, 'prompt_tokens_details': {'audio_tokens': 0, 'cached_tokens': 0}}, 'model_name': 'gpt-5-mini-2025-08-07', 'system_fingerprint': None, 'finish_reason': 'stop', 'logprobs': None} id='run--2c2f58d8-a28d-4884-bf83-83203ebd3c89-0' usage_metadata={'input_tokens': 646, 'output_tokens': 2429, 'total_tokens': 3075, 'input_token_details': {'audio': 0, 'cache_read': 0}, 'output_token_details': {'audio': 0, 'reasoning': 1920}}\n",
      "CPU times: user 12.4 ms, sys: 14.8 ms, total: 27.2 ms\n",
      "Wall time: 38.4 s\n"
     ]
    }
   ],
   "source": [
    "%%time\n",
    "msg = prompt.format_messages(duration_min=duration, focus=focus, prefs=prefs or \"—\")\n",
    "raw = llm_open_ai.invoke(msg)\n",
    "print(raw)"
   ]
  },
  {
   "cell_type": "code",
   "execution_count": 35,
   "id": "911325be-c6ec-4bd7-a765-8955d8aeab21",
   "metadata": {},
   "outputs": [
    {
     "name": "stdout",
     "output_type": "stream",
     "text": [
      "content='```json\\n{\\n  \"name\": \"Steady State Endurance\",\\n  \"focus\": \"Endurance\",\\n  \"description\": \"A classic aerobic endurance session designed to build mitochondrial density and fat oxidation capacity. The sustained Zone 2 effort develops the aerobic base crucial for long rides and recovery between high-intensity blocks. Perfect for building durability without creating excessive fatigue.\",\\n  \"steps\": [\\n    {\"duration_s\": 300, \"pct_ftp\": 0.50, \"pct_ftp_end\": 0.60, \"kind\": \"warmup\", \"note\": \"Easy spin to wake up the legs and prepare joints and muscles\"},\\n    {\"duration_s\": 300, \"pct_ftp\": 0.60, \"pct_ftp_end\": 0.68, \"kind\": \"warmup\", \"note\": \"Gradually increase effort into Zone 2, focusing on smooth pedaling\"},\\n    {\"duration_s\": 240, \"pct_ftp\": 0.68, \"pct_ftp_end\": 0.72, \"kind\": \"warmup\", \"note\": \"Final warmup ramp to settle into comfortable Zone 2 rhythm\"},\\n    {\"duration_s\": 1200, \"pct_ftp\": 0.72, \"kind\": \"steady\", \"note\": \"First main block—find your sustainable aerobic pace, controlled breathing\"},\\n    {\"duration_s\": 1200, \"pct_ftp\": 0.70, \"kind\": \"steady\", \"note\": \"Continue building aerobic capacity, stay relaxed and efficient\"},\\n    {\"duration_s\": 1200, \"pct_ftp\": 0.72, \"kind\": \"steady\", \"note\": \"Maintain steady Zone 2 effort, focus on consistent cadence around 85-90 rpm\"},\\n    {\"duration_s\": 1200, \"pct_ftp\": 0.70, \"kind\": \"steady\", \"note\": \"Keep the aerobic engine humming, conversation pace breathing\"},\\n    {\"duration_s\": 1200, \"pct_ftp\": 0.68, \"kind\": \"steady\", \"note\": \"Slightly easier but still purposeful—building fatigue resistance\"},\\n    {\"duration_s\": 300, \"pct_ftp\": 0.60, \"pct_ftp_end\": 0.50, \"kind\": \"cooldown\", \"note\": \"Begin gradual wind-down, let heart rate drift down naturally\"},\\n    {\"duration_s\": 240, \"pct_ftp\": 0.50, \"kind\": \"cooldown\", \"note\": \"Easy spinning to flush legs and promote recovery\"}\\n  ]\\n}\\n```' additional_kwargs={} response_metadata={'id': 'msg_01QFjrpXTgecbUrKghLXqXYW', 'model': 'claude-sonnet-4-5-20250929', 'stop_reason': 'end_turn', 'stop_sequence': None, 'usage': {'cache_creation': {'ephemeral_1h_input_tokens': 0, 'ephemeral_5m_input_tokens': 0}, 'cache_creation_input_tokens': 0, 'cache_read_input_tokens': 0, 'input_tokens': 769, 'output_tokens': 629, 'server_tool_use': None, 'service_tier': 'standard'}} id='run--712e7934-4d15-4337-aefb-3cef7b56cf07-0' usage_metadata={'input_tokens': 769, 'output_tokens': 629, 'total_tokens': 1398, 'input_token_details': {'cache_read': 0, 'cache_creation': 0}}\n",
      "CPU times: user 17.7 ms, sys: 43.6 ms, total: 61.3 ms\n",
      "Wall time: 13.3 s\n"
     ]
    }
   ],
   "source": [
    "%%time\n",
    "msg = prompt.format_messages(duration_min=duration, focus=focus, prefs=prefs or \"—\")\n",
    "raw = llm_claude.invoke(msg)\n",
    "print(raw)"
   ]
  },
  {
   "cell_type": "code",
   "execution_count": 49,
   "id": "4dce8885-882b-4586-81a9-998b06efff3c",
   "metadata": {},
   "outputs": [
    {
     "name": "stdout",
     "output_type": "stream",
     "text": [
      "content='```json\\n{\\n \"name\": \"Progressive Endurance Build\",\\n \"focus\": \"Endurance\",\\n \"description\": \"This workout focuses on building aerobic base by progressively increasing the duration and intensity within the endurance zone. It aims to improve sustained power output and fatigue resistance, crucial for ambitious cyclists targeting long events or general fitness.\",\\n \"steps\": [\\n  {\"duration_s\": 600, \"pct_ftp\": 0.50, \"kind\": \"warmup\", \"pct_ftp_end\": 0.55, \"note\": \"Start easy spinning to gradually raise heart rate and warm up the legs.\"},\\n  {\"duration_s\": 600, \"pct_ftp\": 0.55, \"kind\": \"warmup\", \"pct_ftp_end\": 0.60, \"note\": \"Increase cadence and power slightly to prepare for endurance efforts.\"},\\n  {\"duration_s\": 1200, \"pct_ftp\": 0.65, \"kind\": \"steady\", \"note\": \"First sustained endurance block. Focus on maintaining a smooth pedal stroke and steady power output.\"},\\n  {\"duration_s\": 600, \"pct_ftp\": 0.60, \"kind\": \"steady\", \"note\": \"Recovery period. Spin easy to allow legs to recover slightly before the next block.\"},\\n  {\"duration_s\": 1800, \"pct_ftp\": 0.70, \"kind\": \"steady\", \"note\": \"Second endurance block, slightly higher intensity. Maintain focus on efficiency and consistent effort.\"},\\n  {\"duration_s\": 600, \"pct_ftp\": 0.60, \"kind\": \"steady\", \"note\": \"Active recovery. Keep spinning to aid circulation and prepare for the final main block.\"},\\n  {\"duration_s\": 2400, \"pct_ftp\": 0.75, \"kind\": \"steady\", \"note\": \"Main endurance effort. Push the upper limits of Zone 2, focusing on sustained power and mental fortitude. This will build significant aerobic capacity.\"},\\n  {\"duration_s\": 600, \"pct_ftp\": 0.60, \"kind\": \"steady\", \"note\": \"Wind down the intensity to facilitate recovery.\"},\\n  {\"duration_s\": 600, \"pct_ftp\": 0.55, \"kind\": \"cooldown\", \"pct_ftp_end\": 0.50, \"note\": \"Very easy spinning to flush legs and promote blood flow.\"},\\n  {\"duration_s\": 600, \"pct_ftp\": 0.50, \"kind\": \"cooldown\", \"note\": \"Final minutes of easy spinning to finish the session and aid recovery.\"}\\n ]\\n}\\n```' additional_kwargs={} response_metadata={'is_blocked': False, 'safety_ratings': [], 'usage_metadata': {'prompt_token_count': 678, 'candidates_token_count': 609, 'total_token_count': 1287, 'prompt_tokens_details': [{'modality': 1, 'token_count': 678}], 'candidates_tokens_details': [{'modality': 1, 'token_count': 609}], 'thoughts_token_count': 0, 'cached_content_token_count': 0, 'cache_tokens_details': []}, 'finish_reason': 'STOP', 'avg_logprobs': -0.23920108688680214, 'model_name': 'gemini-2.5-flash-lite'} id='run--348e9b66-463e-4743-8dd3-ebe430b1b709-0' usage_metadata={'input_tokens': 678, 'output_tokens': 609, 'total_tokens': 1287, 'input_token_details': {'cache_read': 0}}\n",
      "CPU times: user 5.41 ms, sys: 3.42 ms, total: 8.83 ms\n",
      "Wall time: 2.6 s\n"
     ]
    }
   ],
   "source": [
    "%%time\n",
    "msg = prompt.format_messages(duration_min=duration, focus=focus, prefs=prefs or \"—\")\n",
    "raw = llm_vertex.invoke(msg)\n",
    "print(raw)"
   ]
  },
  {
   "cell_type": "code",
   "execution_count": 24,
   "id": "15f0fb63-a0cc-4749-9085-bb1a46222a5e",
   "metadata": {},
   "outputs": [],
   "source": []
  },
  {
   "cell_type": "code",
   "execution_count": 26,
   "id": "026c82c5-a9b4-44cf-a53d-eba14df9be2e",
   "metadata": {},
   "outputs": [],
   "source": []
  },
  {
   "cell_type": "code",
   "execution_count": 30,
   "id": "63c4229b-5935-4719-a4ad-79aab9c2a41b",
   "metadata": {},
   "outputs": [],
   "source": []
  },
  {
   "cell_type": "code",
   "execution_count": null,
   "id": "2ec94369-d66a-4e3d-8348-f5631baa9433",
   "metadata": {},
   "outputs": [],
   "source": []
  }
 ],
 "metadata": {
  "kernelspec": {
   "display_name": "Python 3 (ipykernel)",
   "language": "python",
   "name": "python3"
  },
  "language_info": {
   "codemirror_mode": {
    "name": "ipython",
    "version": 3
   },
   "file_extension": ".py",
   "mimetype": "text/x-python",
   "name": "python",
   "nbconvert_exporter": "python",
   "pygments_lexer": "ipython3",
   "version": "3.12.6"
  }
 },
 "nbformat": 4,
 "nbformat_minor": 5
}
