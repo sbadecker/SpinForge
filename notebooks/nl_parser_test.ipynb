{
 "cells": [
  {
   "cell_type": "code",
   "execution_count": 1,
   "id": "1019e436-c304-4cb5-a53a-5f6490738bfc",
   "metadata": {},
   "outputs": [],
   "source": [
    "import os\n",
    "import sys\n",
    "sys.path.insert(0, \"../\")"
   ]
  },
  {
   "cell_type": "code",
   "execution_count": 2,
   "id": "c8eecc48-e4fa-40fb-95fa-ae003881c49f",
   "metadata": {},
   "outputs": [],
   "source": [
    "from core.nl_parser import SYSTEM, USER, NLParser"
   ]
  },
  {
   "cell_type": "markdown",
   "id": "1ea1ecc5-cad3-471a-990c-866362a7a790",
   "metadata": {},
   "source": [
    "# Setup"
   ]
  },
  {
   "cell_type": "code",
   "execution_count": 3,
   "id": "c4b33a8b-7a38-4a82-a103-4347766ab3cf",
   "metadata": {},
   "outputs": [],
   "source": [
    "open_ai_key = os.environ[\"OPENAI_API_KEY\"]"
   ]
  },
  {
   "cell_type": "code",
   "execution_count": 4,
   "id": "281fc79b-781f-4c8f-8525-32284c511955",
   "metadata": {},
   "outputs": [],
   "source": [
    "nl_parser = NLParser(open_ai_key)"
   ]
  },
  {
   "cell_type": "markdown",
   "id": "08760b2b-a9b7-4d18-ab34-68ca9e67de6e",
   "metadata": {},
   "source": [
    "# Generate"
   ]
  },
  {
   "cell_type": "code",
   "execution_count": 7,
   "id": "72cc902b-df9d-4e2e-94dc-93532df6f281",
   "metadata": {},
   "outputs": [],
   "source": [
    "duration = 90\n",
    "focus = \"Endurance\""
   ]
  },
  {
   "cell_type": "code",
   "execution_count": 8,
   "id": "8f266f76-3692-460f-b619-3799c4d11041",
   "metadata": {},
   "outputs": [
    {
     "data": {
      "text/plain": [
       "Workout(name='Endurance Ride', focus='Endurance', steps=[Step(duration_s=300, pct_ftp=0.5, note=None, cadence=None, kind='warmup', pct_ftp_end=0.6), Step(duration_s=2400, pct_ftp=0.65, note=None, cadence=None, kind='steady', pct_ftp_end=None), Step(duration_s=600, pct_ftp=0.7, note=None, cadence=None, kind='steady', pct_ftp_end=None), Step(duration_s=2400, pct_ftp=0.65, note=None, cadence=None, kind='steady', pct_ftp_end=None), Step(duration_s=600, pct_ftp=0.7, note=None, cadence=None, kind='steady', pct_ftp_end=None), Step(duration_s=2400, pct_ftp=0.65, note=None, cadence=None, kind='steady', pct_ftp_end=None), Step(duration_s=300, pct_ftp=0.6, note=None, cadence=None, kind='cooldown', pct_ftp_end=0.5)])"
      ]
     },
     "execution_count": 8,
     "metadata": {},
     "output_type": "execute_result"
    }
   ],
   "source": [
    "nl_parser.generate(duration_min=duration, focus=focus)"
   ]
  },
  {
   "cell_type": "code",
   "execution_count": null,
   "id": "19eb65bc-cb47-432b-bf7d-7e5bbfb51f54",
   "metadata": {},
   "outputs": [],
   "source": []
  }
 ],
 "metadata": {
  "kernelspec": {
   "display_name": "Python 3 (ipykernel)",
   "language": "python",
   "name": "python3"
  },
  "language_info": {
   "codemirror_mode": {
    "name": "ipython",
    "version": 3
   },
   "file_extension": ".py",
   "mimetype": "text/x-python",
   "name": "python",
   "nbconvert_exporter": "python",
   "pygments_lexer": "ipython3",
   "version": "3.12.6"
  }
 },
 "nbformat": 4,
 "nbformat_minor": 5
}
